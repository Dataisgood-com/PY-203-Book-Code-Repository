{
 "cells": [
  {
   "cell_type": "code",
   "execution_count": 2,
   "metadata": {},
   "outputs": [
    {
     "data": {
      "text/plain": [
       "'../Datasets/Ski_Resort_Lift_Data.csv'"
      ]
     },
     "execution_count": 2,
     "metadata": {},
     "output_type": "execute_result"
    }
   ],
   "source": [
    "import pandas as pd\n",
    "from random import randint, choice, uniform\n",
    "from datetime import datetime, timedelta\n",
    "\n",
    "# Step 1: Generate unique IDs\n",
    "ids = range(1, 201)\n",
    "\n",
    "# Step 2: Generate random dates for installation and maintenance\n",
    "def random_dates(start, end, n=1):\n",
    "    start_u = int(start.timestamp())\n",
    "    end_u = int(end.timestamp())\n",
    "    return [datetime.fromtimestamp(randint(start_u, end_u)) for _ in range(n)]\n",
    "\n",
    "install_dates = random_dates(datetime(1980, 1, 1), datetime(2023, 1, 1), 200)\n",
    "maintenance_dates = [date + timedelta(days=randint(30, 5000)) for date in install_dates]\n",
    "\n",
    "# Step 3 & 4: Assign locations and regions\n",
    "locations = [\n",
    "    \"St. Anton am Arlberg\", \"Kitzbühel\", \"Sölden\", \"Ischgl\", \"Mayrhofen\",\n",
    "    \"Cortina d'Ampezzo\", \"Val Gardena\", \"Livigno\", \"Breuil-Cervinia\", \"Madonna di Campiglio\",\n",
    "    \"Zermatt\", \"Verbier\", \"St. Moritz\", \"Davos\", \"Jungfrau\",\n",
    "    \"Grandvalira\", \"Vallnord\", \"Ordino Arcalís\", \"Pal-Arinsal\", \"Pas de la Casa\",\n",
    "    \"Garmisch-Partenkirchen\", \"Oberstdorf\", \"Fellhorn/Kanzelwand\", \"Nebelhorn\", \"Zugspitze\",\n",
    "] * 8\n",
    "\n",
    "regions = [\n",
    "    \"Tyrol\", \"Tyrol\", \"Tyrol\", \"Tyrol\", \"Tyrol\",\n",
    "    \"Dolomites\", \"Dolomites\", \"Lombardy\", \"Aosta Valley\", \"Trentino\",\n",
    "    \"Valais\", \"Valais\", \"Graubünden\", \"Graubünden\", \"Bernese Oberland\",\n",
    "    \"Eastern Pyrenees\", \"Eastern Pyrenees\", \"Eastern Pyrenees\", \"Eastern Pyrenees\", \"Eastern Pyrenees\",\n",
    "    \"Bavaria\", \"Bavaria\", \"Bavaria\", \"Bavaria\", \"Bavaria\",\n",
    "] * 8\n",
    "\n",
    "# Step 5 & 6: Assign types of lifts and manufacturers\n",
    "lift_types = [\"Gondola\", \"Chairlift\", \"T-bar lift\", \"Magic carpet\", \"Funicular\"] * 40\n",
    "manufacturers = [\n",
    "    \"Doppelmayr\", \"Leitner Ropeways\", \"Bartholet Maschinenbau AG\", \n",
    "    \"BMF Bartholet\", \"Garaventa\"\n",
    "] * 40\n",
    "\n",
    "# Step 7 & 8: Assign random capacities and statuses\n",
    "capacities = [randint(2, 15) for _ in range(200)]\n",
    "statuses = [\"Operational\", \"Under Maintenance\", \"Operational\", \"Operational\"] * 50\n",
    "\n",
    "# Step 9: Generate random values for the other fields\n",
    "total_rides = [randint(1000, 1000000) for _ in range(200)]\n",
    "revenues = [round(uniform(100000, 5000000), 2) for _ in range(200)]\n",
    "maintenance_costs = [round(uniform(10000, 1000000), 2) for _ in range(200)]\n",
    "lift_heights = [randint(10, 150) for _ in range(200)]\n",
    "lift_lengths = [randint(100, 5000) for _ in range(200)]\n",
    "daily_riderships = [randint(100, 5000) for _ in range(200)]\n",
    "\n",
    "# Create a DataFrame\n",
    "data = {\n",
    "    \"ID\": ids,\n",
    "    \"Installation Date\": install_dates,\n",
    "    \"Last Maintenance Date\": maintenance_dates,\n",
    "    \"Location\": locations,\n",
    "    \"Region\": regions,\n",
    "    \"Type of Lift\": lift_types,\n",
    "    \"Manufacturer\": manufacturers,\n",
    "    \"Capacity\": capacities,\n",
    "    \"Operational Status\": statuses,\n",
    "    \"Total Rides\": total_rides,\n",
    "    \"Revenue Generated\": revenues,\n",
    "    \"Maintenance Cost\": maintenance_costs,\n",
    "    \"Lift Height\": lift_heights,\n",
    "    \"Lift Length\": lift_lengths,\n",
    "    \"Daily Ridership\": daily_riderships,\n",
    "}\n",
    "\n",
    "df = pd.DataFrame(data)\n",
    "\n",
    "# Save the DataFrame as a CSV file\n",
    "# Uncomment to re-generate Data\n",
    "# csv_file_path = '../Datasets/Ski_Resort_Lift_Data.csv'\n",
    "df.to_csv(csv_file_path, index=False)\n",
    "\n",
    "csv_file_path\n"
   ]
  }
 ],
 "metadata": {
  "kernelspec": {
   "display_name": "Python 3",
   "language": "python",
   "name": "python3"
  },
  "language_info": {
   "codemirror_mode": {
    "name": "ipython",
    "version": 3
   },
   "file_extension": ".py",
   "mimetype": "text/x-python",
   "name": "python",
   "nbconvert_exporter": "python",
   "pygments_lexer": "ipython3",
   "version": "3.11.5"
  },
  "orig_nbformat": 4
 },
 "nbformat": 4,
 "nbformat_minor": 2
}
